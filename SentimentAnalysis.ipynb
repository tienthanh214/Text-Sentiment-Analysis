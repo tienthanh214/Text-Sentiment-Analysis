{
  "nbformat": 4,
  "nbformat_minor": 0,
  "metadata": {
    "colab": {
      "name": "SentimentAnalysis.ipynb",
      "provenance": [],
      "collapsed_sections": []
    },
    "kernelspec": {
      "name": "python3",
      "display_name": "Python 3"
    },
    "accelerator": "GPU"
  },
  "cells": [
    {
      "cell_type": "markdown",
      "metadata": {
        "id": "7ylT8rHd82QJ",
        "colab_type": "text"
      },
      "source": [
        "# Importing packages"
      ]
    },
    {
      "cell_type": "code",
      "metadata": {
        "id": "qSw1xMnBWZSu",
        "colab_type": "code",
        "colab": {}
      },
      "source": [
        "%tensorflow_version 1.x \n",
        "import re\n",
        "import numpy as np\n",
        "import pandas as pd\n",
        "import tensorflow as tf\n",
        "import matplotlib.pyplot as plt\n",
        "\n",
        "from tensorflow.keras.layers import Embedding\n",
        "from tensorflow.keras.models import Sequential\n",
        "from tensorflow.keras.models import load_model\n",
        "from tensorflow.keras.layers import Dense, Activation, Dropout\n",
        "from tensorflow.keras.layers import LSTM, SimpleRNN, TimeDistributed\n",
        "from tensorflow.keras.preprocessing.text import Tokenizer\n",
        "from tensorflow.keras.preprocessing.sequence import pad_sequences\n",
        "from sklearn.metrics import confusion_matrix"
      ],
      "execution_count": 94,
      "outputs": []
    },
    {
      "cell_type": "markdown",
      "metadata": {
        "id": "ZnZRUKml9HrQ",
        "colab_type": "text"
      },
      "source": [
        "# Data loading"
      ]
    },
    {
      "cell_type": "code",
      "metadata": {
        "id": "9zXztQDvWjXx",
        "colab_type": "code",
        "colab": {
          "base_uri": "https://localhost:8080/",
          "height": 121
        },
        "outputId": "cf369c7e-d864-4511-9575-24506745e6e5"
      },
      "source": [
        "from google.colab import drive\n",
        "drive.mount('/content/drive')"
      ],
      "execution_count": 2,
      "outputs": [
        {
          "output_type": "stream",
          "text": [
            "Go to this URL in a browser: https://accounts.google.com/o/oauth2/auth?client_id=947318989803-6bn6qk8qdgf4n4g3pfee6491hc0brc4i.apps.googleusercontent.com&redirect_uri=urn%3aietf%3awg%3aoauth%3a2.0%3aoob&response_type=code&scope=email%20https%3a%2f%2fwww.googleapis.com%2fauth%2fdocs.test%20https%3a%2f%2fwww.googleapis.com%2fauth%2fdrive%20https%3a%2f%2fwww.googleapis.com%2fauth%2fdrive.photos.readonly%20https%3a%2f%2fwww.googleapis.com%2fauth%2fpeopleapi.readonly\n",
            "\n",
            "Enter your authorization code:\n",
            "··········\n",
            "Mounted at /content/drive\n"
          ],
          "name": "stdout"
        }
      ]
    },
    {
      "cell_type": "markdown",
      "metadata": {
        "id": "oZ2meHgg9QtC",
        "colab_type": "text"
      },
      "source": [
        "##### Loading dataset"
      ]
    },
    {
      "cell_type": "markdown",
      "metadata": {
        "id": "dlr1V1V--QYV",
        "colab_type": "text"
      },
      "source": [
        "Dataset: IMDB (highly-polar movie reviews with 50k reviews)\n",
        "\n",
        "CVS file dataset format: 50000 records and two column:\n",
        "- review: text\n",
        "- sentiment: \"positive\" or \"negative\""
      ]
    },
    {
      "cell_type": "code",
      "metadata": {
        "id": "qtmI8h0PoMoq",
        "colab_type": "code",
        "colab": {}
      },
      "source": [
        "dataset = pd.read_csv('/content/drive/My Drive/data/Text/IMDB_dataset.csv')"
      ],
      "execution_count": 3,
      "outputs": []
    },
    {
      "cell_type": "markdown",
      "metadata": {
        "id": "39XDhwVd9sVN",
        "colab_type": "text"
      },
      "source": [
        "# Data preprocessing"
      ]
    },
    {
      "cell_type": "markdown",
      "metadata": {
        "id": "JGcEt5YN93rK",
        "colab_type": "text"
      },
      "source": [
        "\n",
        "- convert to lower case\n",
        "- remove punctuation\n",
        "- encode the label 'positive' -> 0 and 'negative' -> 1"
      ]
    },
    {
      "cell_type": "code",
      "metadata": {
        "id": "fx0a-jxhbqPM",
        "colab_type": "code",
        "colab": {}
      },
      "source": [
        "dataset['review'] = dataset['review'].apply(lambda x: x.lower())\n",
        "dataset['review'] = dataset['review'].apply((lambda x: re.sub('[^a-z0-9\\s]','',x)))\n",
        "dataset['sentiment'] = dataset['sentiment'].apply((lambda x: 1 if x == 'negative' else 0))"
      ],
      "execution_count": 4,
      "outputs": []
    },
    {
      "cell_type": "markdown",
      "metadata": {
        "id": "6QLNhD3dG1ag",
        "colab_type": "text"
      },
      "source": [
        "##### Visualizing data"
      ]
    },
    {
      "cell_type": "code",
      "metadata": {
        "id": "IVqG9Th8NkTx",
        "colab_type": "code",
        "colab": {
          "base_uri": "https://localhost:8080/",
          "height": 437
        },
        "outputId": "9d3e0729-d9be-4ded-d93d-75e26788709a"
      },
      "source": [
        "print('Number of positive reviews: ', len(dataset[dataset['sentiment'] == 0]))\n",
        "print(dataset[dataset['sentiment'] == 0].head(10))\n",
        "print('Number of negative reviews: ', len(dataset[dataset['sentiment'] == 1]))\n",
        "print(dataset[dataset['sentiment'] == 1].head(10))\n",
        "print('Number of reviews:          ', len(dataset))"
      ],
      "execution_count": 5,
      "outputs": [
        {
          "output_type": "stream",
          "text": [
            "Number of positive reviews:  25000\n",
            "                                               review  sentiment\n",
            "0   one of the other reviewers has mentioned that ...          0\n",
            "1   a wonderful little production br br the filmin...          0\n",
            "2   i thought this was a wonderful way to spend ti...          0\n",
            "4   petter matteis love in the time of money is a ...          0\n",
            "5   probably my alltime favorite movie a story of ...          0\n",
            "6   i sure would like to see a resurrection of a u...          0\n",
            "9   if you like original gut wrenching laughter yo...          0\n",
            "14  this a fantastic movie of three prisoners who ...          0\n",
            "16  some films just simply should not be remade th...          0\n",
            "18  i remember this filmit was the first film i ha...          0\n",
            "Number of negative reviews:  25000\n",
            "                                               review  sentiment\n",
            "3   basically theres a family where a little boy j...          1\n",
            "7   this show was an amazing fresh  innovative ide...          1\n",
            "8   encouraged by the positive comments about this...          1\n",
            "10  phil the alien is one of those quirky films wh...          1\n",
            "11  i saw this movie when i was about 12 when it c...          1\n",
            "12  so im not a big fan of bolls work but then aga...          1\n",
            "13  the cast played shakespearebr br shakespeare l...          1\n",
            "15  kind of drawn in by the erotic scenes only to ...          1\n",
            "17  this movie made it into one of my top 10 most ...          1\n",
            "19  an awful film it must have been up against som...          1\n",
            "Number of reviews:           50000\n"
          ],
          "name": "stdout"
        }
      ]
    },
    {
      "cell_type": "code",
      "metadata": {
        "id": "UboT8iX1N32C",
        "colab_type": "code",
        "colab": {
          "base_uri": "https://localhost:8080/",
          "height": 416
        },
        "outputId": "bb961de9-39c9-4b1d-c604-6534a956633b"
      },
      "source": [
        "reviews_len = [len(x) for x in dataset['review']]\n",
        "pd.Series(reviews_len).hist()\n",
        "plt.show()\n",
        "pd.Series(reviews_len).describe()"
      ],
      "execution_count": 7,
      "outputs": [
        {
          "output_type": "display_data",
          "data": {
            "image/png": "[encoded data removed]",
            "text/plain": [
              "<Figure size 432x288 with 1 Axes>"
            ]
          },
          "metadata": {
            "tags": [],
            "needs_background": "light"
          }
        },
        {
          "output_type": "execute_result",
          "data": {
            "text/plain": [
              "count    50000.000000\n",
              "mean      1256.655080\n",
              "std        950.635141\n",
              "min         30.000000\n",
              "25%        672.000000\n",
              "50%        931.000000\n",
              "75%       1526.000000\n",
              "max      13346.000000\n",
              "dtype: float64"
            ]
          },
          "metadata": {
            "tags": []
          },
          "execution_count": 7
        }
      ]
    },
    {
      "cell_type": "markdown",
      "metadata": {
        "id": "lZ1-sGYIFaiP",
        "colab_type": "text"
      },
      "source": [
        "Tokenizer mapping word to int\n",
        "- creat an index mapping dictionary that frequently occuring words are assigned lower indexes.\n",
        "- encode the words, replace words by integer so the Network can deal with it as input"
      ]
    },
    {
      "cell_type": "code",
      "metadata": {
        "id": "Pxv9ijjHR8gT",
        "colab_type": "code",
        "colab": {}
      },
      "source": [
        "WORD_SIZE = 2000\n",
        "tokenizer = Tokenizer(num_words = WORD_SIZE, split = ' ')\n",
        "tokenizer.fit_on_texts(dataset['review'].values)\n",
        "dataset['review'] = tokenizer.texts_to_sequences(dataset['review'].values)"
      ],
      "execution_count": 8,
      "outputs": []
    },
    {
      "cell_type": "code",
      "metadata": {
        "id": "yqQJal9zYH4O",
        "colab_type": "code",
        "colab": {
          "base_uri": "https://localhost:8080/",
          "height": 386
        },
        "outputId": "0e7f2edc-c2f6-4d26-e3d1-40d3ef2c9db1"
      },
      "source": [
        "print(dataset['review'].head(10))\n",
        "print(dataset['sentiment'].head(10))"
      ],
      "execution_count": 9,
      "outputs": [
        {
          "output_type": "stream",
          "text": [
            "0    [28, 4, 1, 77, 1940, 44, 1062, 11, 100, 145, 4...\n",
            "1    [3, 384, 115, 358, 12, 12, 1, 1364, 6, 52, 52,...\n",
            "2    [9, 195, 10, 13, 3, 384, 98, 5, 1109, 59, 20, ...\n",
            "3    [663, 211, 3, 235, 112, 3, 115, 438, 1201, 211...\n",
            "4    [110, 7, 1, 59, 4, 291, 6, 3, 1377, 19, 5, 103...\n",
            "5    [234, 53, 499, 17, 3, 66, 4, 2, 5, 3, 1045, 18...\n",
            "6    [9, 243, 57, 38, 5, 64, 3, 4, 3, 56, 1996, 212...\n",
            "7    [10, 118, 13, 33, 487, 1425, 313, 7, 1, 990, 5...\n",
            "8    [32, 1, 1131, 765, 42, 10, 19, 20, 135, 9, 13,...\n",
            "9    [43, 22, 38, 208, 22, 76, 38, 10, 17, 43, 22, ...\n",
            "Name: review, dtype: object\n",
            "0    0\n",
            "1    0\n",
            "2    0\n",
            "3    1\n",
            "4    0\n",
            "5    0\n",
            "6    0\n",
            "7    1\n",
            "8    1\n",
            "9    0\n",
            "Name: sentiment, dtype: int64\n"
          ],
          "name": "stdout"
        }
      ]
    },
    {
      "cell_type": "markdown",
      "metadata": {
        "id": "TF2H47HfIfVb",
        "colab_type": "text"
      },
      "source": [
        "##### Training, Validation, Test Dataset Split"
      ]
    },
    {
      "cell_type": "code",
      "metadata": {
        "id": "mMpQjA7gW0Fl",
        "colab_type": "code",
        "colab": {}
      },
      "source": [
        "def split_data(train_data, train_rate, val_rate):\n",
        "    X = pad_sequences(train_data['review']) # Truncating the remaining data (same length bya adding head 0)\n",
        "    Y = np.array(pd.get_dummies(train_data['sentiment']).values) #one-hot-key\n",
        "    data_size = len(X)\n",
        "    # train set\n",
        "    X_train = X[:int(train_rate * data_size)]\n",
        "    Y_train = Y[:int(train_rate * data_size)]\n",
        "    # validation set\n",
        "    X_val = X[int(train_rate * data_size): int((train_rate + val_rate) * data_size)]\n",
        "    Y_val = Y[int(train_rate * data_size): int((train_rate + val_rate) * data_size)]\n",
        "    # test set\n",
        "    X_test = X[int((train_rate + val_rate) * data_size):]\n",
        "    Y_test = Y[int((train_rate + val_rate) * data_size):]\n",
        "    return X_train, Y_train, X_val, Y_val, X_test, Y_test\n",
        "\n",
        "X_train, y_train, X_val, y_val, X_test, y_test = split_data(dataset, 0.6, 0.2)"
      ],
      "execution_count": 10,
      "outputs": []
    },
    {
      "cell_type": "code",
      "metadata": {
        "id": "JKeRwOMyY4kq",
        "colab_type": "code",
        "colab": {
          "base_uri": "https://localhost:8080/",
          "height": 118
        },
        "outputId": "7bd1aa77-2e30-46c9-d602-b3a27ab71004"
      },
      "source": [
        "print(X_train.shape)\n",
        "print(y_train.shape)\n",
        "print(X_test.shape)\n",
        "print(y_test.shape)\n",
        "print(X_val.shape)\n",
        "print(y_val.shape)"
      ],
      "execution_count": 11,
      "outputs": [
        {
          "output_type": "stream",
          "text": [
            "(30000, 1862)\n",
            "(30000, 2)\n",
            "(10000, 1862)\n",
            "(10000, 2)\n",
            "(10000, 1862)\n",
            "(10000, 2)\n"
          ],
          "name": "stdout"
        }
      ]
    },
    {
      "cell_type": "markdown",
      "metadata": {
        "id": "kU67vtsxAuow",
        "colab_type": "text"
      },
      "source": [
        "# Build the model"
      ]
    },
    {
      "cell_type": "code",
      "metadata": {
        "id": "F1Qo2ItXVBRu",
        "colab_type": "code",
        "colab": {}
      },
      "source": [
        "model = Sequential([\n",
        "    Embedding(WORD_SIZE + 1, 128, input_length = X_train.shape[1]),\n",
        "    Dropout(0.2),\n",
        "    LSTM(128),\n",
        "    Dropout(0.2),\n",
        "    Dense(2, activation = tf.nn.softmax)              \n",
        "])"
      ],
      "execution_count": 85,
      "outputs": []
    },
    {
      "cell_type": "code",
      "metadata": {
        "id": "Et8UI5YDlRU5",
        "colab_type": "code",
        "colab": {}
      },
      "source": [
        "model.compile(loss = 'categorical_crossentropy', optimizer = 'adam', metrics = ['accuracy'])"
      ],
      "execution_count": 86,
      "outputs": []
    },
    {
      "cell_type": "code",
      "metadata": {
        "id": "tcnZRd9flKkL",
        "colab_type": "code",
        "colab": {
          "base_uri": "https://localhost:8080/",
          "height": 319
        },
        "outputId": "4aa936da-52f6-4f10-9e0f-08f72956183d"
      },
      "source": [
        "model.summary()"
      ],
      "execution_count": 79,
      "outputs": [
        {
          "output_type": "stream",
          "text": [
            "Model: \"sequential_2\"\n",
            "_________________________________________________________________\n",
            "Layer (type)                 Output Shape              Param #   \n",
            "=================================================================\n",
            "embedding_2 (Embedding)      (None, 1862, 128)         256128    \n",
            "_________________________________________________________________\n",
            "dropout_2 (Dropout)          (None, 1862, 128)         0         \n",
            "_________________________________________________________________\n",
            "lstm_2 (LSTM)                (None, 128)               131584    \n",
            "_________________________________________________________________\n",
            "dropout_3 (Dropout)          (None, 128)               0         \n",
            "_________________________________________________________________\n",
            "dense_2 (Dense)              (None, 2)                 258       \n",
            "=================================================================\n",
            "Total params: 387,970\n",
            "Trainable params: 387,970\n",
            "Non-trainable params: 0\n",
            "_________________________________________________________________\n"
          ],
          "name": "stdout"
        }
      ]
    },
    {
      "cell_type": "code",
      "metadata": {
        "id": "SsR4N4T3liAi",
        "colab_type": "code",
        "colab": {
          "base_uri": "https://localhost:8080/",
          "height": 370
        },
        "outputId": "d7e020f5-ea30-4cc7-b683-210f369da725"
      },
      "source": [
        "history = model.fit(X_train, y_train, batch_size = 128, epochs = 10, validation_data = (X_val, y_val))"
      ],
      "execution_count": 87,
      "outputs": [
        {
          "output_type": "stream",
          "text": [
            "Train on 30000 samples, validate on 10000 samples\n",
            "Epoch 1/10\n",
            "30000/30000 [==============================] - 837s 28ms/sample - loss: 0.5310 - acc: 0.7343 - val_loss: 0.3860 - val_acc: 0.8336\n",
            "Epoch 2/10\n",
            "30000/30000 [==============================] - 839s 28ms/sample - loss: 0.3313 - acc: 0.8629 - val_loss: 0.3090 - val_acc: 0.8713\n",
            "Epoch 3/10\n",
            "30000/30000 [==============================] - 841s 28ms/sample - loss: 0.2829 - acc: 0.8853 - val_loss: 0.2966 - val_acc: 0.8801\n",
            "Epoch 4/10\n",
            "30000/30000 [==============================] - 841s 28ms/sample - loss: 0.2575 - acc: 0.8966 - val_loss: 0.3044 - val_acc: 0.8735\n",
            "Epoch 5/10\n",
            "30000/30000 [==============================] - 841s 28ms/sample - loss: 0.2413 - acc: 0.9045 - val_loss: 0.3079 - val_acc: 0.8717\n",
            "Epoch 6/10\n",
            "30000/30000 [==============================] - 843s 28ms/sample - loss: 0.2365 - acc: 0.9062 - val_loss: 0.3161 - val_acc: 0.8711\n",
            "Epoch 7/10\n",
            "30000/30000 [==============================] - 842s 28ms/sample - loss: 0.2335 - acc: 0.9087 - val_loss: 0.3235 - val_acc: 0.8700\n",
            "Epoch 8/10\n",
            "30000/30000 [==============================] - 841s 28ms/sample - loss: 0.2122 - acc: 0.9175 - val_loss: 0.3750 - val_acc: 0.8460\n",
            "Epoch 9/10\n",
            "30000/30000 [==============================] - 837s 28ms/sample - loss: 0.2230 - acc: 0.9103 - val_loss: 0.3419 - val_acc: 0.8709\n",
            "Epoch 10/10\n",
            "30000/30000 [==============================] - 838s 28ms/sample - loss: 0.1892 - acc: 0.9274 - val_loss: 0.3601 - val_acc: 0.8750\n"
          ],
          "name": "stdout"
        }
      ]
    },
    {
      "cell_type": "code",
      "metadata": {
        "id": "3hT1gPkx6CWl",
        "colab_type": "code",
        "colab": {
          "base_uri": "https://localhost:8080/",
          "height": 34
        },
        "outputId": "ad013414-0bbf-495b-f669-1f2e53783401"
      },
      "source": [
        "model.save(\"/content/drive/My Drive/data/model_training_data/final_model.h5\")\n",
        "print(\"Saved model to disk\")"
      ],
      "execution_count": 91,
      "outputs": [
        {
          "output_type": "stream",
          "text": [
            "Saved model to disk\n"
          ],
          "name": "stdout"
        }
      ]
    },
    {
      "cell_type": "code",
      "metadata": {
        "id": "kxtkRgY1D7fD",
        "colab_type": "code",
        "colab": {
          "base_uri": "https://localhost:8080/",
          "height": 516
        },
        "outputId": "3c43cb2c-2e49-40ff-e633-0843684b051b"
      },
      "source": [
        "\n",
        "acc = history.history['acc']\n",
        "val_acc = history.history['val_acc']\n",
        "\n",
        "loss = history.history['loss']\n",
        "val_loss = history.history['val_loss']\n",
        "epochs_range = range(10)\n",
        "print(len(acc), len(epochs_range))\n",
        "plt.figure(figsize=(8, 8))\n",
        "plt.subplot(1, 2, 1)\n",
        "plt.plot(epochs_range, acc, label='Training Accuracy')\n",
        "plt.plot(epochs_range, val_acc, label='Validation Accuracy')\n",
        "plt.legend(loc='lower right')\n",
        "plt.title('Training and Validation Accuracy')\n",
        "\n",
        "plt.subplot(1, 2, 2)\n",
        "plt.plot(epochs_range, loss, label='Training Loss')\n",
        "plt.plot(epochs_range, val_loss, label='Validation Loss')\n",
        "plt.legend(loc='upper right')\n",
        "plt.title('Training and Validation Loss')\n",
        "plt.show()"
      ],
      "execution_count": 89,
      "outputs": [
        {
          "output_type": "stream",
          "text": [
            "10 10\n"
          ],
          "name": "stdout"
        },
        {
          "output_type": "display_data",
          "data": {
            "image/png": "[encoded data removed]",
            "text/plain": [
              "<Figure size 576x576 with 2 Axes>"
            ]
          },
          "metadata": {
            "tags": [],
            "needs_background": "light"
          }
        }
      ]
    },
    {
      "cell_type": "markdown",
      "metadata": {
        "id": "4HTBdcScURv2",
        "colab_type": "text"
      },
      "source": [
        "# Testing model"
      ]
    },
    {
      "cell_type": "markdown",
      "metadata": {
        "id": "fmF0pmu_bK8X",
        "colab_type": "text"
      },
      "source": [
        "Testing on test dataset"
      ]
    },
    {
      "cell_type": "code",
      "metadata": {
        "id": "B0hN4mPxncO8",
        "colab_type": "code",
        "colab": {
          "base_uri": "https://localhost:8080/",
          "height": 34
        },
        "outputId": "e52b2946-8d7f-4f95-a3cf-616c0aa517e9"
      },
      "source": [
        "test_loss, test_acc = model.evaluate(X_test, y_test)"
      ],
      "execution_count": 90,
      "outputs": [
        {
          "output_type": "stream",
          "text": [
            "10000/10000 [==============================] - 236s 24ms/sample - loss: 0.3630 - acc: 0.8729\n"
          ],
          "name": "stdout"
        }
      ]
    },
    {
      "cell_type": "code",
      "metadata": {
        "id": "nPyboWZgVzDP",
        "colab_type": "code",
        "colab": {}
      },
      "source": [
        "predictions = model.predict(X_test)\n",
        "predictions = np.argmax(predictions, axis = 1)"
      ],
      "execution_count": 92,
      "outputs": []
    },
    {
      "cell_type": "code",
      "metadata": {
        "id": "NDyfqApNX9p-",
        "colab_type": "code",
        "colab": {
          "base_uri": "https://localhost:8080/",
          "height": 50
        },
        "outputId": "9da56479-52e4-4a8e-dd44-1ce88254ca71"
      },
      "source": [
        "print(confusion_matrix(np.argmax(y_test, axis = 1), predictions))"
      ],
      "execution_count": 100,
      "outputs": [
        {
          "output_type": "stream",
          "text": [
            "[[4397  610]\n",
            " [ 661 4332]]\n"
          ],
          "name": "stdout"
        }
      ]
    },
    {
      "cell_type": "code",
      "metadata": {
        "id": "xDTpa4ddvAdY",
        "colab_type": "code",
        "colab": {}
      },
      "source": [
        "model = load_model(\"/content/drive/My Drive/data/model_training_data/model.h5\")"
      ],
      "execution_count": 81,
      "outputs": []
    },
    {
      "cell_type": "code",
      "metadata": {
        "id": "_rhhonxXo8Zs",
        "colab_type": "code",
        "colab": {}
      },
      "source": [
        "review_data = pd.read_csv('/content/drive/My Drive/data/Text/IMDB_dataset.csv')"
      ],
      "execution_count": 22,
      "outputs": []
    },
    {
      "cell_type": "code",
      "metadata": {
        "id": "zv1cXhQepQsM",
        "colab_type": "code",
        "colab": {
          "base_uri": "https://localhost:8080/",
          "height": 202
        },
        "outputId": "172a249a-e2e8-459e-efda-ba3faf8fea31"
      },
      "source": [
        "print(review_data[40000:40010])"
      ],
      "execution_count": 25,
      "outputs": [
        {
          "output_type": "stream",
          "text": [
            "                                                  review sentiment\n",
            "40000  First off I want to say that I lean liberal on...  negative\n",
            "40001  I was excited to see a sitcom that would hopef...  negative\n",
            "40002  When you look at the cover and read stuff abou...  negative\n",
            "40003  Like many others, I counted on the appearance ...  negative\n",
            "40004  This movie was on t.v the other day, and I did...  negative\n",
            "40005  Hickory Dickory Dock was a good Poirot mystery...  positive\n",
            "40006  \"One Crazy Summer\" is the funniest, craziest (...  positive\n",
            "40007  Low-budget schlockmeister Herschell Gordon Lew...  negative\n",
            "40008  this was absolutely the most tragic pile of ci...  negative\n",
            "40009  I have never understood the appeal of this sho...  negative\n"
          ],
          "name": "stdout"
        }
      ]
    },
    {
      "cell_type": "code",
      "metadata": {
        "id": "18hBiJC6pUFi",
        "colab_type": "code",
        "colab": {
          "base_uri": "https://localhost:8080/",
          "height": 34
        },
        "outputId": "5f053e04-870f-4b07-ded5-fb2f7d06f6c0"
      },
      "source": [
        "print(predictions[:10])"
      ],
      "execution_count": 93,
      "outputs": [
        {
          "output_type": "stream",
          "text": [
            "[1 1 1 1 1 0 0 1 1 1]\n"
          ],
          "name": "stdout"
        }
      ]
    },
    {
      "cell_type": "markdown",
      "metadata": {
        "id": "I-EEltbZbHJq",
        "colab_type": "text"
      },
      "source": [
        "Testing on some text"
      ]
    },
    {
      "cell_type": "code",
      "metadata": {
        "id": "3BeMXqsZqaQh",
        "colab_type": "code",
        "colab": {}
      },
      "source": [
        "def SentimentAnalysis(text):\n",
        "    print(text)\n",
        "    text = text.lower()\n",
        "    text = re.sub('[^a-z0-9\\s]', '', text)\n",
        "    text = np.array([text])\n",
        "    \n",
        "    text = tokenizer.texts_to_sequences(text)\n",
        "    text = pad_sequences(text, X_train.shape[1])\n",
        "    \n",
        "    predictions = model.predict(text)\n",
        "    sentiment = np.argmax(predictions, axis = 1)\n",
        "    if (sentiment == 0):\n",
        "        print('Sentiment: Positive')\n",
        "    else:\n",
        "        print('Sentiment: Negative')\n",
        "    print('Rating: ', np.max(predictions, axis = 1)[0])"
      ],
      "execution_count": 101,
      "outputs": []
    },
    {
      "cell_type": "code",
      "metadata": {
        "id": "AtgjQQxUUY4d",
        "colab_type": "code",
        "colab": {
          "base_uri": "https://localhost:8080/",
          "height": 67
        },
        "outputId": "11d28df7-40b1-4970-a252-5c219c3df296"
      },
      "source": [
        "SentimentAnalysis(\"I’m tried asking myself, “when are things going back to normal”. This song makes me hopeful that someday it will and it will be better.\")"
      ],
      "execution_count": 104,
      "outputs": [
        {
          "output_type": "stream",
          "text": [
            "I’m tried asking myself, “when are things going back to normal”. This song makes me hopeful that someday it will and it will be better.\n",
            "Sentiment: Positive\n",
            "Rating:  0.78102046\n"
          ],
          "name": "stdout"
        }
      ]
    }
  ]
}